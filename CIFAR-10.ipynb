{
 "cells": [
  {
   "cell_type": "code",
   "execution_count": 1,
   "id": "faba0125",
   "metadata": {},
   "outputs": [],
   "source": [
    "import os\n",
    "import pickle\n",
    "\n",
    "# Define the directory path where your dataset files are located\n",
    "data_dir = 'data'\n",
    "\n",
    "def load_cifar_batch(file):\n",
    "    with open(file, 'rb') as fo:\n",
    "        batch = pickle.load(fo, encoding='bytes')\n",
    "    return batch\n"
   ]
  },
  {
   "cell_type": "code",
   "execution_count": 2,
   "id": "37cb5a04",
   "metadata": {},
   "outputs": [
    {
     "name": "stdout",
     "output_type": "stream",
     "text": [
      "First data batch shape: (10000, 3072)\n",
      "First labels shape: (10000,)\n"
     ]
    }
   ],
   "source": [
    "import os\n",
    "import pickle\n",
    "import numpy as np\n",
    "\n",
    "# Define the directory path where your dataset files are located\n",
    "data_dir = 'data'\n",
    "\n",
    "def load_cifar_batch(file):\n",
    "    with open(file, 'rb') as fo:\n",
    "        batch = pickle.load(fo, encoding='bytes')\n",
    "    return batch\n",
    "\n",
    "# Load CIFAR-10 batches and test batch\n",
    "data_batches = []\n",
    "test_batch = None\n",
    "\n",
    "for i in range(1, 6):  # Assuming data_batch_1 to data_batch_5\n",
    "    file_path = os.path.join(data_dir, f'data_batch_{i}')\n",
    "    batch_data = load_cifar_batch(file_path)\n",
    "    data_batches.append(batch_data)\n",
    "\n",
    "# Load test batch\n",
    "test_batch_file = os.path.join(data_dir, 'test_batch')\n",
    "test_batch = load_cifar_batch(test_batch_file)\n",
    "\n",
    "# Accessing data from the loaded batches (example)\n",
    "first_data_batch = data_batches[0]\n",
    "first_data = first_data_batch[b'data']  # Accessing image data\n",
    "first_labels = first_data_batch[b'labels']  # Accessing corresponding labels\n",
    "\n",
    "# Convert data to numpy arrays for further processing\n",
    "first_data = np.array(first_data)\n",
    "first_labels = np.array(first_labels)\n",
    "\n",
    "# Print shapes to verify\n",
    "print('First data batch shape:', first_data.shape)\n",
    "print('First labels shape:', first_labels.shape)\n"
   ]
  },
  {
   "cell_type": "code",
   "execution_count": 3,
   "id": "b75e9828",
   "metadata": {},
   "outputs": [
    {
     "name": "stdout",
     "output_type": "stream",
     "text": [
      "(10000, 3072) 10000\n",
      "(10000, 3072) 10000\n",
      "(10000, 3072) 10000\n",
      "(10000, 3072) 10000\n",
      "(10000, 3072) 10000\n"
     ]
    }
   ],
   "source": [
    "for batch in data_batches:\n",
    "    print(batch[b'data'].shape, len(batch[b'labels']))\n",
    "\n",
    "# Perform data preprocessing (e.g., normalization)\n",
    "def preprocess_data(batch):\n",
    "    data = batch[b'data']\n",
    "    data = data.astype('float32') / 255.0  # Normalize pixel values\n",
    "    labels = np.array(batch[b'labels'])\n",
    "    return data, labels\n",
    "\n",
    "preprocessed_data_batches = [preprocess_data(batch) for batch in data_batches]\n",
    "preprocessed_test_data, test_labels = preprocess_data(test_batch)"
   ]
  },
  {
   "cell_type": "code",
   "execution_count": 14,
   "id": "8475e303",
   "metadata": {},
   "outputs": [
    {
     "name": "stdout",
     "output_type": "stream",
     "text": [
      "2.16.1\n"
     ]
    }
   ],
   "source": [
    "import tensorflow as tf\n",
    "print(tf.__version__)\n"
   ]
  },
  {
   "cell_type": "code",
   "execution_count": 10,
   "id": "625fdd0e",
   "metadata": {},
   "outputs": [
    {
     "name": "stdout",
     "output_type": "stream",
     "text": [
      "Downloading data from https://www.cs.toronto.edu/~kriz/cifar-10-python.tar.gz\n",
      "\u001b[1m170498071/170498071\u001b[0m \u001b[32m━━━━━━━━━━━━━━━━━━━━\u001b[0m\u001b[37m\u001b[0m \u001b[1m55s\u001b[0m 0us/step\n"
     ]
    }
   ],
   "source": [
    "import numpy as np\n",
    "from tensorflow.keras.datasets import cifar10\n",
    "from tensorflow.keras.utils import to_categorical\n",
    "\n",
    "# Load CIFAR-10 dataset\n",
    "(train_images, train_labels), (test_images, test_labels) = cifar10.load_data()\n",
    "\n",
    "# Preprocess the data\n",
    "train_images = train_images.astype('float32') / 255.0\n",
    "test_images = test_images.astype('float32') / 255.0\n",
    "\n",
    "train_labels = to_categorical(train_labels, num_classes=10)\n",
    "test_labels = to_categorical(test_labels, num_classes=10)"
   ]
  },
  {
   "cell_type": "code",
   "execution_count": 16,
   "id": "283426e0",
   "metadata": {},
   "outputs": [],
   "source": [
    "from tensorflow.keras.datasets import cifar10\n",
    "from tensorflow.keras.models import Sequential\n",
    "from tensorflow.keras.layers import Conv2D, MaxPooling2D, Flatten, Dense, Input\n",
    "from tensorflow.keras.utils import to_categorical\n",
    "model = Sequential([\n",
    "    Input(shape=(32, 32, 3)),  # Specify input shape using Input(shape)\n",
    "    Conv2D(32, (3, 3), activation='relu'),\n",
    "    MaxPooling2D((2, 2)),\n",
    "    Conv2D(64, (3, 3), activation='relu'),\n",
    "    MaxPooling2D((2, 2)),\n",
    "    Flatten(),\n",
    "    Dense(128, activation='relu'),\n",
    "    Dense(10, activation='softmax')\n",
    "])\n",
    "model.compile(optimizer='adam', loss='categorical_crossentropy', metrics=['accuracy'])"
   ]
  },
  {
   "cell_type": "code",
   "execution_count": 12,
   "id": "96693262",
   "metadata": {
    "scrolled": true
   },
   "outputs": [
    {
     "name": "stdout",
     "output_type": "stream",
     "text": [
      "Epoch 1/10\n",
      "\u001b[1m391/391\u001b[0m \u001b[32m━━━━━━━━━━━━━━━━━━━━\u001b[0m\u001b[37m\u001b[0m \u001b[1m48s\u001b[0m 110ms/step - accuracy: 0.3568 - loss: 1.7710 - val_accuracy: 0.5487 - val_loss: 1.2733\n",
      "Epoch 2/10\n",
      "\u001b[1m391/391\u001b[0m \u001b[32m━━━━━━━━━━━━━━━━━━━━\u001b[0m\u001b[37m\u001b[0m \u001b[1m82s\u001b[0m 111ms/step - accuracy: 0.5599 - loss: 1.2374 - val_accuracy: 0.6033 - val_loss: 1.1287\n",
      "Epoch 3/10\n",
      "\u001b[1m391/391\u001b[0m \u001b[32m━━━━━━━━━━━━━━━━━━━━\u001b[0m\u001b[37m\u001b[0m \u001b[1m83s\u001b[0m 113ms/step - accuracy: 0.6257 - loss: 1.0743 - val_accuracy: 0.6444 - val_loss: 1.0278\n",
      "Epoch 4/10\n",
      "\u001b[1m391/391\u001b[0m \u001b[32m━━━━━━━━━━━━━━━━━━━━\u001b[0m\u001b[37m\u001b[0m \u001b[1m42s\u001b[0m 107ms/step - accuracy: 0.6551 - loss: 0.9877 - val_accuracy: 0.6483 - val_loss: 1.0029\n",
      "Epoch 5/10\n",
      "\u001b[1m391/391\u001b[0m \u001b[32m━━━━━━━━━━━━━━━━━━━━\u001b[0m\u001b[37m\u001b[0m \u001b[1m82s\u001b[0m 107ms/step - accuracy: 0.6833 - loss: 0.9107 - val_accuracy: 0.6655 - val_loss: 0.9664\n",
      "Epoch 6/10\n",
      "\u001b[1m391/391\u001b[0m \u001b[32m━━━━━━━━━━━━━━━━━━━━\u001b[0m\u001b[37m\u001b[0m \u001b[1m85s\u001b[0m 114ms/step - accuracy: 0.7069 - loss: 0.8425 - val_accuracy: 0.6569 - val_loss: 0.9956\n",
      "Epoch 7/10\n",
      "\u001b[1m391/391\u001b[0m \u001b[32m━━━━━━━━━━━━━━━━━━━━\u001b[0m\u001b[37m\u001b[0m \u001b[1m44s\u001b[0m 113ms/step - accuracy: 0.7244 - loss: 0.7958 - val_accuracy: 0.6764 - val_loss: 0.9440\n",
      "Epoch 8/10\n",
      "\u001b[1m391/391\u001b[0m \u001b[32m━━━━━━━━━━━━━━━━━━━━\u001b[0m\u001b[37m\u001b[0m \u001b[1m89s\u001b[0m 131ms/step - accuracy: 0.7460 - loss: 0.7395 - val_accuracy: 0.6903 - val_loss: 0.9076\n",
      "Epoch 9/10\n",
      "\u001b[1m391/391\u001b[0m \u001b[32m━━━━━━━━━━━━━━━━━━━━\u001b[0m\u001b[37m\u001b[0m \u001b[1m83s\u001b[0m 133ms/step - accuracy: 0.7618 - loss: 0.6899 - val_accuracy: 0.6960 - val_loss: 0.8941\n",
      "Epoch 10/10\n",
      "\u001b[1m391/391\u001b[0m \u001b[32m━━━━━━━━━━━━━━━━━━━━\u001b[0m\u001b[37m\u001b[0m \u001b[1m76s\u001b[0m 117ms/step - accuracy: 0.7822 - loss: 0.6355 - val_accuracy: 0.6821 - val_loss: 0.9508\n"
     ]
    },
    {
     "data": {
      "text/plain": [
       "<keras.src.callbacks.history.History at 0x283c0dbb510>"
      ]
     },
     "execution_count": 12,
     "metadata": {},
     "output_type": "execute_result"
    }
   ],
   "source": [
    "# Train the model\n",
    "model.fit(train_images, train_labels, epochs=10, batch_size=128, validation_data=(test_images, test_labels))"
   ]
  },
  {
   "cell_type": "code",
   "execution_count": 13,
   "id": "4c013aec",
   "metadata": {},
   "outputs": [
    {
     "name": "stdout",
     "output_type": "stream",
     "text": [
      "\u001b[1m313/313\u001b[0m \u001b[32m━━━━━━━━━━━━━━━━━━━━\u001b[0m\u001b[37m\u001b[0m \u001b[1m5s\u001b[0m 15ms/step - accuracy: 0.6877 - loss: 0.9441\n",
      "Test accuracy: 0.6820999979972839\n"
     ]
    }
   ],
   "source": [
    "# Evaluate the model\n",
    "test_loss, test_acc = model.evaluate(test_images, test_labels)\n",
    "print(f'Test accuracy: {test_acc}')"
   ]
  }
 ],
 "metadata": {
  "kernelspec": {
   "display_name": "Python 3 (ipykernel)",
   "language": "python",
   "name": "python3"
  },
  "language_info": {
   "codemirror_mode": {
    "name": "ipython",
    "version": 3
   },
   "file_extension": ".py",
   "mimetype": "text/x-python",
   "name": "python",
   "nbconvert_exporter": "python",
   "pygments_lexer": "ipython3",
   "version": "3.11.5"
  }
 },
 "nbformat": 4,
 "nbformat_minor": 5
}
